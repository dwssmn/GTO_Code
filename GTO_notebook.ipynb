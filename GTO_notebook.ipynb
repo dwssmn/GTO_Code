{
 "cells": [
  {
   "cell_type": "markdown",
   "id": "3a264a12",
   "metadata": {},
   "source": [
    "Commands to make the bra ket\n",
    "$$\\newcommand{\\ket}[1]{\\left|{#1}\\right\\rangle}$$\n",
    "$$\\newcommand{\\bra}[1]{\\left\\langle{#1}\\right|}$$"
   ]
  },
  {
   "cell_type": "markdown",
   "id": "fc9781c8",
   "metadata": {},
   "source": [
    "McWeeny method to describe Slater orbitals with Gaussian orbitals:  \n",
    "Normal $STO$ - Slater Type Orbital  \n",
    "$\\Psi_s = R_{n_s} Y_{lm}$, $R_n (r) = ((2n_s)!)^{-1/2} (\\frac{2Z}{n_s})^{n_s +1/2 rn_s -1} e^{-\\frac{Z}{n_s}r}$\n",
    "\n",
    "Gaussian type orbitals\n",
    "$$R_{ng} (r) = N_i Z^{-(n_g -1)} \\rho^{n_g -1} e^{-\\alpha_i \\rho^2}$$\n",
    "$$N_i = \\Bigg[\\frac{2^{2n_g + 1/2}}{(2n_g-1)!!\\sqrt{n}}\\Bigg]^{1/2} (Z^2 \\alpha_i)^{(2n_g +1)/4}$$\n",
    "\n",
    "\n",
    "By taking the average of $Z^{-2}H_s$ over the orbitals, you can obtain the equations needed to first derive the variational principle"
   ]
  },
  {
   "cell_type": "code",
   "execution_count": 2,
   "id": "5b495266",
   "metadata": {},
   "outputs": [
    {
     "name": "stdout",
     "output_type": "stream",
     "text": [
      "3fn2 0.0fn30.5641895835477563\n"
     ]
    }
   ],
   "source": [
    "import math\n",
    "import numpy as np\n",
    "def gto_xg_xg(ai, aj, ng):\n",
    "    return (2.0*(ai*aj)**(1/2)/(ai+aj))**(ng+0.5)\n",
    "def gto_xg_ZH_xg(ai,aj,ns,ng):\n",
    "    return ((2*ng+1)*(ai*aj/(ai+aj)) + (ns*(ns-1) - ng*(ng-1))/(2*ng-1)*(ai+aj) -  math.factorial(ng -1)*(math.sqrt(2)*(2**ng)/(math.factorial(math.factorial(2*ng -1))*math.sqrt(math.pi)) * (ai+aj)**(1/2)))*gto_xg_xg(ai,aj,ng)\n",
    "def fn1(ng):\n",
    "    return 2*ng+1\n",
    "def fn2(ns,ng):\n",
    "    return (ns*(ns-1) - ng*(ng-1))/(2*ng-1)\n",
    "def fn3(ng):\n",
    "    return math.factorial(ng-1)/(math.factorial(math.factorial(2*ng-1)) *math.sqrt(math.pi))\n",
    "print(str(fn1(1))+ \"fn2 \" +str(fn2(1,1))+\"fn3\"+str(fn3(1)))\n"
   ]
  },
  {
   "cell_type": "markdown",
   "id": "615430fc",
   "metadata": {},
   "source": [
    "$\\bra{X_{g,i}} Z^{-2} H_s\\ket{X_{g,i}} = f1 *\\frac{a_i a_j}{a_i +a_j} + f2 * (a_i+a_j) - f3 * (a_i+a_j)^{\\frac{1}{2}} \\bra{X_{g,i}} \\ket{X_{g,j}}$  \n",
    "$f1 = 2n_g -1$  \n",
    "$f2 = \\frac{n_s(n_s-1) - n_g (n_g-1)}{2n_g -1}$  \n",
    "$f3 = \\frac{(ng-1)! 2^n}{(2n_g-1)!!\\sqrt{\\pi}}$  \n",
    "$\\bra{X_{g,i}} \\ket{X_{g,j}} = \\frac{2(a_ia_j)^{1/2}}{a_i+a_j}^{n_g+\\frac{1}{2}}$   \n"
   ]
  },
  {
   "cell_type": "markdown",
   "id": "b2fe6165",
   "metadata": {},
   "source": [
    "$\\frac{d}{da} = f1 * 2a + 2f2 - f3 *(2ai)^{-\\frac{1}{2}}$\n",
    "for ns = ng, f2 = 0, therefore the min a is 1/2 (f3/f2)^2/3\n"
   ]
  },
  {
   "cell_type": "markdown",
   "id": "e9c3a854",
   "metadata": {},
   "source": [
    "$\\bra{X_{g,i}} \\ket{X_{g,j}}$  \n",
    "$\\bra{X_{g,i}} Z^{-2} H_s\\ket{X_{g,j}}$"
   ]
  },
  {
   "cell_type": "code",
   "execution_count": 25,
   "id": "bb6a8977",
   "metadata": {},
   "outputs": [
    {
     "name": "stdout",
     "output_type": "stream",
     "text": [
      "[[0.28294212 0.         0.         0.         0.         0.        ]\n",
      " [0.02104528 0.04527074 0.05016148 0.         0.         0.        ]\n",
      " [0.00349311 0.01059929 0.01478228 0.01714395 0.01841989 0.        ]\n",
      " [0.00097904 0.00336725 0.00520204 0.0065699  0.00758707 0.00834108]\n",
      " [0.00036964 0.00134574 0.00218673 0.0028893  0.00347499 0.00396337]]\n",
      "[[-0.42441318  0.          0.          0.          0.          0.        ]\n",
      " [-0.11574905 -0.11317685 -0.09530682  0.          0.          0.        ]\n",
      " [-0.04715702 -0.05476299 -0.05173799 -0.04775814 -0.04400307  0.        ]\n",
      " [-0.02496548 -0.03086641 -0.03069203 -0.02956456 -0.02824078 -0.02691894]\n",
      " [-0.01534024 -0.01951325 -0.01989923 -0.01960597 -0.01911245 -0.01855577]]\n"
     ]
    }
   ],
   "source": [
    "import scipy.special as sp\n",
    "from numpy import pi\n",
    "\n",
    "def dfact(x):\n",
    "    n = (x + 1.)/2.\n",
    "    return 2.**n * sp.gamma(n + 0.5)/(pi**(0.5))\n",
    "\n",
    "def d_xg_ZH_xg(a,ns,ng):\n",
    "    \"\"\"Assuming i=j\"\"\"\n",
    "    return (2*ng+1)*a + 2 * (ns*(ns-1) - ng*(ng-1))/(2*ng-1)\n",
    "\n",
    "def ideal_a(ng,ns):\n",
    "    return (math.factorial(ng-1)*(2**(ng))*math.sqrt(2)/(dfact(2*ng-3) *math.sqrt(math.pi) *(4*ng+4*ns*(ns-1)-1)))**2\n",
    "def ideal_ZH(ng,ns):\n",
    "    return -1/2 * (2*ng-1)/(4*ng+4*ns*(ns-1) -1) *((math.factorial(ng-1)*(2**ng)*math.sqrt(2)/(dfact(2*ng-1) *math.sqrt(math.pi)))**2)\n",
    "\n",
    "ng = np.arange(1,7)\n",
    "ns = np.arange(1,6)\n",
    "a_opt = np.zeros((len(ng),len(ns)))\n",
    "ZH_opt = np.zeros((len(ng),len(ns)))\n",
    "for i in ng:\n",
    "    for j in ns[(i)//2:]:\n",
    "        a_opt[i-1][j-1] = ideal_a(i,j)\n",
    "        ZH_opt[i-1][j-1] = ideal_ZH(i,j)\n",
    "print(np.transpose(a_opt))\n",
    "print(np.transpose(ZH_opt))"
   ]
  },
  {
   "cell_type": "code",
   "execution_count": 15,
   "id": "2984d5ba",
   "metadata": {},
   "outputs": [
    {
     "name": "stdout",
     "output_type": "stream",
     "text": [
      "[0.0, 0.0, 0.0, 0.0]\n",
      "[0.1679566064215235, 0.4761239886065956, 1.9859962135391438, 14.995930062727078]\n"
     ]
    }
   ],
   "source": [
    "n_g =1\n",
    "n_s =1\n",
    "import scipy.special as sp\n",
    "from numpy import pi\n",
    "import math\n",
    "\n",
    "def dfact(x):\n",
    "    n = (x + 1.)/2.\n",
    "    return 2.**n * sp.gamma(n + 0.5)/(pi**(0.5))\n",
    "\n",
    "def fn1(ng):\n",
    "    return 2*ng+1\n",
    "def fn2(ns,ng):\n",
    "    return (ns*(ns-1) - ng*(ng-1))/(2*ng-1)\n",
    "def fn3(ng):\n",
    "    return math.factorial(ng-1)/(dfact(2*ng-1) *math.sqrt(math.pi))\n",
    "a = [0.2,0.5,2,15]\n",
    "a2 = a\n",
    "def partial_x_ng_1(x,y,k,l,m):\n",
    "    return (y*(l*(x - 3*y)*((x + y)**2) + math.sqrt(x + y)*(j*((x + y)**2) *(x + 3*y) + k*x*y*(-3*x + 7*y))))/(math.sqrt(2)*math.sqrt(math.sqrt(x*y)/(x + y))*((x + y)**(9/2)) )\n",
    "k = [0.0]*4\n",
    "for i in range(4):\n",
    "    for j in range(4):\n",
    "        k[i] += partial_x_ng_1(a[i],a[j],fn1(n_g),fn2(n_s,n_g),fn3(n_g))\n",
    "for i in range(4):\n",
    "    a[i] = a[i]- 0.001*k[i]\n",
    "        \n",
    "k = [0.0]*4\n",
    "#for i in range(4):\n",
    "#    for j in range(4):\n",
    "#        k[i] += partial_x_ng_1(a[i],a[j],fn1(n_g),fn2(n_s,n_g),fn3(n_g))\n",
    "#for i in range(4):\n",
    "#    a[i] = a[i]- 0.1*k[i]\n",
    "\n",
    "print(k)\n",
    "print(a)\n",
    "    \n"
   ]
  },
  {
   "cell_type": "code",
   "execution_count": 10,
   "id": "cc509f75",
   "metadata": {},
   "outputs": [
    {
     "ename": "SyntaxError",
     "evalue": "invalid syntax (3662348872.py, line 1)",
     "output_type": "error",
     "traceback": [
      "\u001b[1;36m  Input \u001b[1;32mIn [10]\u001b[1;36m\u001b[0m\n\u001b[1;33m    (y (l (x - 3 y) (x + y)^2 + Sqrt[x + y] (j (x + y)^2 (x + 3 y) + k x y (-3 x + 7 y))))/(Sqrt[2] Sqrt[Sqrt[x y]/(x + y)] (x + y)^(9/2))\u001b[0m\n\u001b[1;37m                 ^\u001b[0m\n\u001b[1;31mSyntaxError\u001b[0m\u001b[1;31m:\u001b[0m invalid syntax\n"
     ]
    }
   ],
   "source": [
    "(y (l (x - 3 y) (x + y)^2 + Sqrt[x + y] (j (x + y)^2 (x + 3 y) + k x y (-3 x + 7 y))))/(Sqrt[2] Sqrt[Sqrt[x y]/(x + y)] (x + y)^(9/2))"
   ]
  },
  {
   "cell_type": "code",
   "execution_count": null,
   "id": "ee83483a",
   "metadata": {},
   "outputs": [],
   "source": []
  },
  {
   "cell_type": "code",
   "execution_count": null,
   "id": "db964662",
   "metadata": {},
   "outputs": [],
   "source": []
  }
 ],
 "metadata": {
  "kernelspec": {
   "display_name": "Python 3 (ipykernel)",
   "language": "python",
   "name": "python3"
  },
  "language_info": {
   "codemirror_mode": {
    "name": "ipython",
    "version": 3
   },
   "file_extension": ".py",
   "mimetype": "text/x-python",
   "name": "python",
   "nbconvert_exporter": "python",
   "pygments_lexer": "ipython3",
   "version": "3.9.12"
  }
 },
 "nbformat": 4,
 "nbformat_minor": 5
}
